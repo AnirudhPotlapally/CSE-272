{
 "cells": [
  {
   "cell_type": "code",
   "execution_count": 2,
   "metadata": {},
   "outputs": [],
   "source": [
    "import re\n",
    "import pandas as pd\n",
    "import nltk"
   ]
  },
  {
   "cell_type": "code",
   "execution_count": 13,
   "metadata": {},
   "outputs": [],
   "source": [
    "def read_documents(path):\n",
    "    f = open(path, 'r')\n",
    "    documents = f.read()\n",
    "    documents = documents.split(\".I \")\n",
    "    for i in range(1,len(documents)):\n",
    "        documents[i] = documents[i].split(\"\\n.U\", maxsplit=1)\n",
    "    return documents"
   ]
  },
  {
   "cell_type": "code",
   "execution_count": 4,
   "metadata": {},
   "outputs": [],
   "source": [
    "def remove_stopwords(text,stpwrd):\n",
    "    text =  ' '.join([word for word in text.split() if word not in stpwrd]) # delete stopwords from text\n",
    "    return text\n"
   ]
  },
  {
   "cell_type": "code",
   "execution_count": 5,
   "metadata": {},
   "outputs": [],
   "source": [
    "def process_text(text):\n",
    "\tpattern = re.compile('[\\W_]+')\n",
    "\ttext = text.lower()\n",
    "\ttext = pattern.sub(' ', text)\n",
    "\ttext = re.sub(r'[\\W_]+',' ', text)\n",
    "\ttext = re.sub(\"^\\d+\\s|\\s\\d+\\s|\\s\\d+$\", \" \", text)\n",
    "\ttext = text.split()\n",
    "\treturn text"
   ]
  },
  {
   "cell_type": "code",
   "execution_count": 6,
   "metadata": {},
   "outputs": [],
   "source": [
    "def clean_documents(documents, stpwrd):\n",
    "    cleaned_documents = []\n",
    "    for i in range(1,len(documents)-1):\n",
    "        try:\n",
    "            id = documents[i][0]\n",
    "            text = documents[i][1]\n",
    "        except:\n",
    "            continue\n",
    "        text = remove_stopwords(text, stpwrd)\n",
    "        text = process_text(text)\n",
    "        cleaned_documents.append([id, text])\n",
    "    return cleaned_documents"
   ]
  },
  {
   "cell_type": "code",
   "execution_count": 14,
   "metadata": {},
   "outputs": [
    {
     "name": "stderr",
     "output_type": "stream",
     "text": [
      "[nltk_data] Downloading package stopwords to\n",
      "[nltk_data]     /Users/shubham/nltk_data...\n",
      "[nltk_data]   Package stopwords is already up-to-date!\n"
     ]
    }
   ],
   "source": [
    "### MAIN\n",
    "nltk.download('stopwords')\n",
    "stpwrd = nltk.corpus.stopwords.words('english')\n",
    "stpwrd.extend(['.U', '.S','.M','.T','.P','.W','.M','.I'])\n",
    "\n",
    "documents = read_documents('ohsumed.88-91')\n",
    "cleaned_documents = clean_documents(documents, stpwrd)"
   ]
  },
  {
   "cell_type": "code",
   "execution_count": 19,
   "metadata": {},
   "outputs": [
    {
     "data": {
      "text/plain": [
       "293855"
      ]
     },
     "execution_count": 19,
     "metadata": {},
     "output_type": "execute_result"
    }
   ],
   "source": [
    "len(cleaned_documents)"
   ]
  },
  {
   "cell_type": "code",
   "execution_count": 28,
   "metadata": {},
   "outputs": [],
   "source": [
    "import pandas as pd\n",
    "cleaned_documents_df = pd.DataFrame(columns = ['id', 'tokens'], data=cleaned_documents, index=None)"
   ]
  },
  {
   "cell_type": "code",
   "execution_count": 30,
   "metadata": {},
   "outputs": [],
   "source": [
    "cleaned_documents_df.to_csv('cleaned_documents.csv', index=False)"
   ]
  },
  {
   "cell_type": "code",
   "execution_count": null,
   "metadata": {},
   "outputs": [],
   "source": []
  }
 ],
 "metadata": {
  "interpreter": {
   "hash": "b0fa6594d8f4cbf19f97940f81e996739fb7646882a419484c72d19e05852a7e"
  },
  "kernelspec": {
   "display_name": "Python 3 (ipykernel)",
   "language": "python",
   "name": "python3"
  },
  "language_info": {
   "codemirror_mode": {
    "name": "ipython",
    "version": 3
   },
   "file_extension": ".py",
   "mimetype": "text/x-python",
   "name": "python",
   "nbconvert_exporter": "python",
   "pygments_lexer": "ipython3",
   "version": "3.9.7"
  }
 },
 "nbformat": 4,
 "nbformat_minor": 2
}
